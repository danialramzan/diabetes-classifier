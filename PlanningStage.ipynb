{
 "cells": [
  {
   "cell_type": "markdown",
   "id": "bd902195-ff66-42fe-abb1-435b46ad1cda",
   "metadata": {},
   "source": [
    "# **Diabetes Prediction through Logistic Regression Model**"
   ]
  },
  {
   "cell_type": "markdown",
   "id": "53443d07-6184-4ab6-88be-b5997448de57",
   "metadata": {},
   "source": [
    "Group 3 \n",
    "\n",
    "Names: Sadia Khan Durani, Eric Yee, Jaden Lai, Danial Ramzan"
   ]
  },
  {
   "cell_type": "markdown",
   "id": "97a63991-029f-4f5a-bdff-1e8f7ec7af16",
   "metadata": {},
   "source": [
    "## **1. Introduction**"
   ]
  },
  {
   "cell_type": "markdown",
   "id": "ff9bba0f-09a2-48ba-a0e0-d719fa894dd5",
   "metadata": {},
   "source": [
    "\n",
    "Diabetes is a chronic, metabolic disease characterized by elevated levels of blood glucose, which leads over time to serious damage to the heart, blood vessels, eyes, kidneys and nerves. There are two types of diabetes; Type I diabetes, in which the pancreas produces little or no insulin by itself, and Type II diabetes which develops usually in adults and occurs when the body becomes resistant to insulin or doesn't make enough insulin by itself. In the past 30 years the prevalence of Type II diabetes has risen dramatically in countries of all income levels. About 422 million people worldwide have either Type I or Type II diabetes. For our study, we will be working with the Pima Indians Diabetes dataset. [1]\n",
    "\n",
    "Source: WHO\n",
    "https://www.who.int/health-topics/diabetes)\n",
    "\n",
    "\n",
    "The Pima Indians dataset is valuable for studying the onset of diabetes in a population with a high genetic predisposition to the disease, resulting in high disease incidence rates. This dataset, which includes extensive data from the Pima Indians in Arizona, allows researchers to narrow down the causes and predictors of diabetes. The richness of this dataset stems from the extensive participation of the Pima Indians, providing invaluable data for various analyses. Moreover, it also enables comparisons with other groups, such as the Pima Indians in Mexico, to highlight the impact of different environmental and lifestyle factors on diabetes prevalence, offering comprehensive insights for broader public health research and interventions. In this study, we aim to use logistic regression. [2][3]\n",
    "\n",
    "Source(s): \n",
    "https://repository.arizona.edu/bitstream/handle/10150/608737/Stowe_Senior_Capstone_Spring_16.pdf\n",
    "https://www.ncbi.nlm.nih.gov/pmc/articles/PMC2245318/\n",
    "\n",
    "The `diabetes` dataset we are using was obtained from the National Institute of Diabetes and Digestive and Kidney Diseases located in the United States. The metrics contained in the dataset was taken from female patients of minimum 21 years of age and of Pima Indian Heritage. This dataset is useful to learn which factors can predict the presence of Diabetes, particularly for the female population, using different statistical methods. \n",
    "\n",
    "The original paper referenced by the dataset uses the ADAP learning algorithm to forecast the onset of diabetes mellitus. You can read more about this study [here.](https://www.ncbi.nlm.nih.gov/pmc/articles/PMC2245318/pdf/procascamc00018-0276.pdf)\n",
    "However, we are using logistic regression to see if we can achieve better predictive performance."
   ]
  },
  {
   "cell_type": "markdown",
   "id": "17b0af1f-2600-4200-85c5-82fd96625928",
   "metadata": {},
   "source": [
    "## 1.1. Data Description"
   ]
  },
  {
   "cell_type": "code",
   "execution_count": 47,
   "id": "9c9f10a9-0e11-48ed-897e-69b13f43c053",
   "metadata": {
    "tags": [],
    "vscode": {
     "languageId": "r"
    }
   },
   "outputs": [
    {
     "name": "stderr",
     "output_type": "stream",
     "text": [
      "Loading required package: carData\n",
      "\n",
      "\n",
      "Attaching package: 'car'\n",
      "\n",
      "\n",
      "The following object is masked from 'package:dplyr':\n",
      "\n",
      "    recode\n",
      "\n",
      "\n",
      "The following object is masked from 'package:purrr':\n",
      "\n",
      "    some\n",
      "\n",
      "\n"
     ]
    }
   ],
   "source": [
    "# Necessary Import Statements\n",
    "library(tidyverse)\n",
    "library(repr)\n",
    "library(GGally)\n",
    "library(caret)\n",
    "library(rsample)\n",
    "library(MASS)\n",
    "library(broom)\n",
    "library(car)\n",
    "\n",
    "# Set seed\n",
    "set.seed(123)"
   ]
  },
  {
   "cell_type": "code",
   "execution_count": 8,
   "id": "1eab7395-059c-4326-adf6-839cc35f049c",
   "metadata": {
    "vscode": {
     "languageId": "r"
    }
   },
   "outputs": [
    {
     "data": {
      "text/html": [
       "<table class=\"dataframe\">\n",
       "<caption>A data.frame: 6 × 9</caption>\n",
       "<thead>\n",
       "\t<tr><th></th><th scope=col>Pregnancies</th><th scope=col>Glucose</th><th scope=col>BloodPressure</th><th scope=col>SkinThickness</th><th scope=col>Insulin</th><th scope=col>BMI</th><th scope=col>DiabetesPedigreeFunction</th><th scope=col>Age</th><th scope=col>Outcome</th></tr>\n",
       "\t<tr><th></th><th scope=col>&lt;int&gt;</th><th scope=col>&lt;int&gt;</th><th scope=col>&lt;int&gt;</th><th scope=col>&lt;int&gt;</th><th scope=col>&lt;int&gt;</th><th scope=col>&lt;dbl&gt;</th><th scope=col>&lt;dbl&gt;</th><th scope=col>&lt;int&gt;</th><th scope=col>&lt;int&gt;</th></tr>\n",
       "</thead>\n",
       "<tbody>\n",
       "\t<tr><th scope=row>1</th><td>6</td><td>148</td><td>72</td><td>35</td><td>  0</td><td>33.6</td><td>0.627</td><td>50</td><td>1</td></tr>\n",
       "\t<tr><th scope=row>2</th><td>1</td><td> 85</td><td>66</td><td>29</td><td>  0</td><td>26.6</td><td>0.351</td><td>31</td><td>0</td></tr>\n",
       "\t<tr><th scope=row>3</th><td>8</td><td>183</td><td>64</td><td> 0</td><td>  0</td><td>23.3</td><td>0.672</td><td>32</td><td>1</td></tr>\n",
       "\t<tr><th scope=row>4</th><td>1</td><td> 89</td><td>66</td><td>23</td><td> 94</td><td>28.1</td><td>0.167</td><td>21</td><td>0</td></tr>\n",
       "\t<tr><th scope=row>5</th><td>0</td><td>137</td><td>40</td><td>35</td><td>168</td><td>43.1</td><td>2.288</td><td>33</td><td>1</td></tr>\n",
       "\t<tr><th scope=row>6</th><td>5</td><td>116</td><td>74</td><td> 0</td><td>  0</td><td>25.6</td><td>0.201</td><td>30</td><td>0</td></tr>\n",
       "</tbody>\n",
       "</table>\n"
      ],
      "text/latex": [
       "A data.frame: 6 × 9\n",
       "\\begin{tabular}{r|lllllllll}\n",
       "  & Pregnancies & Glucose & BloodPressure & SkinThickness & Insulin & BMI & DiabetesPedigreeFunction & Age & Outcome\\\\\n",
       "  & <int> & <int> & <int> & <int> & <int> & <dbl> & <dbl> & <int> & <int>\\\\\n",
       "\\hline\n",
       "\t1 & 6 & 148 & 72 & 35 &   0 & 33.6 & 0.627 & 50 & 1\\\\\n",
       "\t2 & 1 &  85 & 66 & 29 &   0 & 26.6 & 0.351 & 31 & 0\\\\\n",
       "\t3 & 8 & 183 & 64 &  0 &   0 & 23.3 & 0.672 & 32 & 1\\\\\n",
       "\t4 & 1 &  89 & 66 & 23 &  94 & 28.1 & 0.167 & 21 & 0\\\\\n",
       "\t5 & 0 & 137 & 40 & 35 & 168 & 43.1 & 2.288 & 33 & 1\\\\\n",
       "\t6 & 5 & 116 & 74 &  0 &   0 & 25.6 & 0.201 & 30 & 0\\\\\n",
       "\\end{tabular}\n"
      ],
      "text/markdown": [
       "\n",
       "A data.frame: 6 × 9\n",
       "\n",
       "| <!--/--> | Pregnancies &lt;int&gt; | Glucose &lt;int&gt; | BloodPressure &lt;int&gt; | SkinThickness &lt;int&gt; | Insulin &lt;int&gt; | BMI &lt;dbl&gt; | DiabetesPedigreeFunction &lt;dbl&gt; | Age &lt;int&gt; | Outcome &lt;int&gt; |\n",
       "|---|---|---|---|---|---|---|---|---|---|\n",
       "| 1 | 6 | 148 | 72 | 35 |   0 | 33.6 | 0.627 | 50 | 1 |\n",
       "| 2 | 1 |  85 | 66 | 29 |   0 | 26.6 | 0.351 | 31 | 0 |\n",
       "| 3 | 8 | 183 | 64 |  0 |   0 | 23.3 | 0.672 | 32 | 1 |\n",
       "| 4 | 1 |  89 | 66 | 23 |  94 | 28.1 | 0.167 | 21 | 0 |\n",
       "| 5 | 0 | 137 | 40 | 35 | 168 | 43.1 | 2.288 | 33 | 1 |\n",
       "| 6 | 5 | 116 | 74 |  0 |   0 | 25.6 | 0.201 | 30 | 0 |\n",
       "\n"
      ],
      "text/plain": [
       "  Pregnancies Glucose BloodPressure SkinThickness Insulin BMI \n",
       "1 6           148     72            35              0     33.6\n",
       "2 1            85     66            29              0     26.6\n",
       "3 8           183     64             0              0     23.3\n",
       "4 1            89     66            23             94     28.1\n",
       "5 0           137     40            35            168     43.1\n",
       "6 5           116     74             0              0     25.6\n",
       "  DiabetesPedigreeFunction Age Outcome\n",
       "1 0.627                    50  1      \n",
       "2 0.351                    31  0      \n",
       "3 0.672                    32  1      \n",
       "4 0.167                    21  0      \n",
       "5 2.288                    33  1      \n",
       "6 0.201                    30  0      "
      ]
     },
     "metadata": {},
     "output_type": "display_data"
    }
   ],
   "source": [
    "# Loading the dataset into R\n",
    "diabetes <- read.csv(\"https://raw.githubusercontent.com/sadia-kd/STAT-301-Project/main/data/diabetes-2.csv\")\n",
    "head(diabetes)\n",
    "\n",
    "# Main developer: Sadia"
   ]
  },
  {
   "cell_type": "markdown",
   "id": "fb434c9a-9d5c-46a5-a3d9-8ab459475905",
   "metadata": {},
   "source": [
    "_Table 1.1: First 6 rows of the Diabetes data set._"
   ]
  },
  {
   "cell_type": "code",
   "execution_count": 9,
   "id": "0e48a629-9193-47ec-8b8e-942bac0d33e6",
   "metadata": {
    "tags": [],
    "vscode": {
     "languageId": "r"
    }
   },
   "outputs": [
    {
     "name": "stdout",
     "output_type": "stream",
     "text": [
      "This dataset has 9 variables."
     ]
    }
   ],
   "source": [
    "# Number of columns\n",
    "num_cols <- ncol(diabetes)\n",
    "cat(\"This dataset has\", num_cols ,\"variables.\")\n",
    "\n",
    "# Main developer: Sadia"
   ]
  },
  {
   "cell_type": "code",
   "execution_count": 10,
   "id": "9eacd05c-4ec7-4560-81b3-4a25ce27a663",
   "metadata": {
    "tags": [],
    "vscode": {
     "languageId": "r"
    }
   },
   "outputs": [
    {
     "name": "stdout",
     "output_type": "stream",
     "text": [
      "This dataset has 768 observations."
     ]
    }
   ],
   "source": [
    "# Number of rows\n",
    "n <- nrow(diabetes)\n",
    "cat(\"This dataset has\", n ,\"observations.\")\n",
    "\n",
    "# Main developer: Sadia"
   ]
  },
  {
   "cell_type": "markdown",
   "id": "9a124603-fe8e-490c-820e-fd72392d78dc",
   "metadata": {
    "tags": []
   },
   "source": [
    "<br>"
   ]
  },
  {
   "cell_type": "markdown",
   "id": "8cafa592-7903-401c-b7b4-b86e63b161ea",
   "metadata": {},
   "source": [
    "| Variable | Description |\n",
    "|----------|-------------|\n",
    "| `Pregnancies` | Number of times pregnant |\n",
    "| `Glucose` | Glucose Level (mg/dL) |\n",
    "| `BloodPressure` | Blood Pressure Measurement (mm Hg) |\n",
    "| `SkinThickness` | Thickness of the Skin (mm)|\n",
    "| `Insulin` | Insulin Level in Blood ($\\mu$U/ml |\n",
    "| `BMI` | Body Mass Index (Weight in kg / (Height in m$)^2$)|\n",
    "| `DiabetesPedigreeFunction` | Diabetes Pedigree Function |\n",
    "| `Age` | Age (years) |\n",
    "| **Response**: `Outcome` | 1 indicates diabetic and 0 indicates non-diabetic |\n",
    "\n",
    "_Table 1.2: Description of Each Variable_"
   ]
  },
  {
   "cell_type": "markdown",
   "id": "3c8e9ae3-8efd-4001-8eb7-d471397ec729",
   "metadata": {},
   "source": [
    "## 1.2. Questions for Investigation"
   ]
  },
  {
   "cell_type": "markdown",
   "id": "5cd23b30-9fca-4887-a75b-4f989ec74f08",
   "metadata": {},
   "source": [
    "Our random variable of interest, the response, will be the 'Outcome' variable. This variable looks at whether the female patient has diabetes or not. Therefore, the questions that we will investigate using the Diabetes Dataset are:\n",
    "\n",
    "- (1) Which variables are associated with the probability of a female patient being diabetic or not?\n",
    "- (2) How accurately can we predict whether a female patient has diabetes or not based on the significant variables found?\n",
    "\n",
    "The Diabetes dataset will assist in answering the questions above as the data is observational. The first question is focused on inference, as we look into identifying the associated explanatory variables with the response variable. Through statistical inferences with the data, we will look into identifying the variables that have a significant association with 'Outcome'. The second question is focused on prediction as we plan to utilize the model created to predict unseen observations."
   ]
  },
  {
   "cell_type": "markdown",
   "id": "1c470685-a8dc-4ea5-a41c-ca4d5d7733e2",
   "metadata": {},
   "source": [
    "<br>\n",
    "\n",
    "## **2. Methods and Results**"
   ]
  },
  {
   "cell_type": "markdown",
   "id": "13cc3bc4-3677-4f98-b627-879c0f70c808",
   "metadata": {},
   "source": [
    "## 2.1 Exploratory Data Analysis (EDA)"
   ]
  },
  {
   "cell_type": "code",
   "execution_count": 11,
   "id": "03e31720-ae20-4f91-a575-85196e59d4ba",
   "metadata": {
    "tags": [],
    "vscode": {
     "languageId": "r"
    }
   },
   "outputs": [
    {
     "data": {
      "text/html": [
       "<table class=\"dataframe\">\n",
       "<caption>A data.frame: 3 × 9</caption>\n",
       "<thead>\n",
       "\t<tr><th></th><th scope=col>Pregnancies</th><th scope=col>Glucose</th><th scope=col>BloodPressure</th><th scope=col>SkinThickness</th><th scope=col>Insulin</th><th scope=col>BMI</th><th scope=col>DiabetesPedigreeFunction</th><th scope=col>Age</th><th scope=col>Outcome</th></tr>\n",
       "\t<tr><th></th><th scope=col>&lt;int&gt;</th><th scope=col>&lt;int&gt;</th><th scope=col>&lt;int&gt;</th><th scope=col>&lt;int&gt;</th><th scope=col>&lt;int&gt;</th><th scope=col>&lt;dbl&gt;</th><th scope=col>&lt;dbl&gt;</th><th scope=col>&lt;int&gt;</th><th scope=col>&lt;int&gt;</th></tr>\n",
       "</thead>\n",
       "<tbody>\n",
       "\t<tr><th scope=row>1</th><td>6</td><td>148</td><td>72</td><td>35</td><td>0</td><td>33.6</td><td>0.627</td><td>50</td><td>1</td></tr>\n",
       "\t<tr><th scope=row>2</th><td>1</td><td> 85</td><td>66</td><td>29</td><td>0</td><td>26.6</td><td>0.351</td><td>31</td><td>0</td></tr>\n",
       "\t<tr><th scope=row>3</th><td>8</td><td>183</td><td>64</td><td> 0</td><td>0</td><td>23.3</td><td>0.672</td><td>32</td><td>1</td></tr>\n",
       "</tbody>\n",
       "</table>\n"
      ],
      "text/latex": [
       "A data.frame: 3 × 9\n",
       "\\begin{tabular}{r|lllllllll}\n",
       "  & Pregnancies & Glucose & BloodPressure & SkinThickness & Insulin & BMI & DiabetesPedigreeFunction & Age & Outcome\\\\\n",
       "  & <int> & <int> & <int> & <int> & <int> & <dbl> & <dbl> & <int> & <int>\\\\\n",
       "\\hline\n",
       "\t1 & 6 & 148 & 72 & 35 & 0 & 33.6 & 0.627 & 50 & 1\\\\\n",
       "\t2 & 1 &  85 & 66 & 29 & 0 & 26.6 & 0.351 & 31 & 0\\\\\n",
       "\t3 & 8 & 183 & 64 &  0 & 0 & 23.3 & 0.672 & 32 & 1\\\\\n",
       "\\end{tabular}\n"
      ],
      "text/markdown": [
       "\n",
       "A data.frame: 3 × 9\n",
       "\n",
       "| <!--/--> | Pregnancies &lt;int&gt; | Glucose &lt;int&gt; | BloodPressure &lt;int&gt; | SkinThickness &lt;int&gt; | Insulin &lt;int&gt; | BMI &lt;dbl&gt; | DiabetesPedigreeFunction &lt;dbl&gt; | Age &lt;int&gt; | Outcome &lt;int&gt; |\n",
       "|---|---|---|---|---|---|---|---|---|---|\n",
       "| 1 | 6 | 148 | 72 | 35 | 0 | 33.6 | 0.627 | 50 | 1 |\n",
       "| 2 | 1 |  85 | 66 | 29 | 0 | 26.6 | 0.351 | 31 | 0 |\n",
       "| 3 | 8 | 183 | 64 |  0 | 0 | 23.3 | 0.672 | 32 | 1 |\n",
       "\n"
      ],
      "text/plain": [
       "  Pregnancies Glucose BloodPressure SkinThickness Insulin BMI \n",
       "1 6           148     72            35            0       33.6\n",
       "2 1            85     66            29            0       26.6\n",
       "3 8           183     64             0            0       23.3\n",
       "  DiabetesPedigreeFunction Age Outcome\n",
       "1 0.627                    50  1      \n",
       "2 0.351                    31  0      \n",
       "3 0.672                    32  1      "
      ]
     },
     "metadata": {},
     "output_type": "display_data"
    }
   ],
   "source": [
    "# The dataset has been loaded into R above\n",
    "\n",
    "# Re-Display the top 3 rows of the dataset\n",
    "head(diabetes, 3)\n",
    "\n",
    "# Main developer: Jaden"
   ]
  },
  {
   "cell_type": "markdown",
   "id": "c29d89c8-b86a-4a87-a4a1-6c3307db9bcc",
   "metadata": {},
   "source": [
    "_Table 2.1: First 3 rows of the Diabetes data set._\n",
    "\n",
    "`Outcome` is the response variable in our model, which is either 1 or 0. Thus, we will convert it from type `integer` to type `factor`."
   ]
  },
  {
   "cell_type": "code",
   "execution_count": 12,
   "id": "b13f8bf9-378c-4c8f-9f36-3b0e1d8411f1",
   "metadata": {
    "tags": [],
    "vscode": {
     "languageId": "r"
    }
   },
   "outputs": [
    {
     "data": {
      "text/html": [
       "TRUE"
      ],
      "text/latex": [
       "TRUE"
      ],
      "text/markdown": [
       "TRUE"
      ],
      "text/plain": [
       "[1] TRUE"
      ]
     },
     "metadata": {},
     "output_type": "display_data"
    }
   ],
   "source": [
    "# Converting Outcome to type factor\n",
    "diabetes$Outcome <- as.factor(diabetes$Outcome)\n",
    "\n",
    "# Double Check type of Outcome\n",
    "is.factor(diabetes$Outcome)\n",
    "\n",
    "# Main developer: Jaden and Sadia"
   ]
  },
  {
   "cell_type": "code",
   "execution_count": 13,
   "id": "3d639c04-cc29-4fd9-a130-f7680708c4d2",
   "metadata": {
    "tags": [],
    "vscode": {
     "languageId": "r"
    }
   },
   "outputs": [
    {
     "data": {
      "text/html": [
       "<style>\n",
       ".dl-inline {width: auto; margin:0; padding: 0}\n",
       ".dl-inline>dt, .dl-inline>dd {float: none; width: auto; display: inline-block}\n",
       ".dl-inline>dt::after {content: \":\\0020\"; padding-right: .5ex}\n",
       ".dl-inline>dt:not(:first-of-type) {padding-left: .5ex}\n",
       "</style><dl class=dl-inline><dt>Pregnancies</dt><dd>0</dd><dt>Glucose</dt><dd>0</dd><dt>BloodPressure</dt><dd>0</dd><dt>SkinThickness</dt><dd>0</dd><dt>Insulin</dt><dd>0</dd><dt>BMI</dt><dd>0</dd><dt>DiabetesPedigreeFunction</dt><dd>0</dd><dt>Age</dt><dd>0</dd><dt>Outcome</dt><dd>0</dd></dl>\n"
      ],
      "text/latex": [
       "\\begin{description*}\n",
       "\\item[Pregnancies] 0\n",
       "\\item[Glucose] 0\n",
       "\\item[BloodPressure] 0\n",
       "\\item[SkinThickness] 0\n",
       "\\item[Insulin] 0\n",
       "\\item[BMI] 0\n",
       "\\item[DiabetesPedigreeFunction] 0\n",
       "\\item[Age] 0\n",
       "\\item[Outcome] 0\n",
       "\\end{description*}\n"
      ],
      "text/markdown": [
       "Pregnancies\n",
       ":   0Glucose\n",
       ":   0BloodPressure\n",
       ":   0SkinThickness\n",
       ":   0Insulin\n",
       ":   0BMI\n",
       ":   0DiabetesPedigreeFunction\n",
       ":   0Age\n",
       ":   0Outcome\n",
       ":   0\n",
       "\n"
      ],
      "text/plain": [
       "             Pregnancies                  Glucose            BloodPressure \n",
       "                       0                        0                        0 \n",
       "           SkinThickness                  Insulin                      BMI \n",
       "                       0                        0                        0 \n",
       "DiabetesPedigreeFunction                      Age                  Outcome \n",
       "                       0                        0                        0 "
      ]
     },
     "metadata": {},
     "output_type": "display_data"
    }
   ],
   "source": [
    "# Check for missing data in any of the columns\n",
    "colSums(is.na(diabetes))\n",
    "\n",
    "# Main developer: Sadia"
   ]
  },
  {
   "cell_type": "markdown",
   "id": "0f3ea6d2-e2c4-4fef-a175-e3b10ab683c6",
   "metadata": {},
   "source": [
    "The Diabetes Dataset does not have any missing values (NA). However, we notice that `SkinThickness` and `Insulin` are 0 for patients 1, 2, and 3. This is not plausible, so we see that missing values were replaced with 0 in this dataset. We know that 0 is not plausible for the measurements/variables `Glucose`, `BloodPressure`, `SkinThickness`, `Insulin`, and `BMI` for any patient. Thus, we remove these values and assign the cleaned data to `diabetes_clean`."
   ]
  },
  {
   "cell_type": "code",
   "execution_count": 14,
   "id": "a2f15e51-38e6-4ba1-838b-33ff650aa6a0",
   "metadata": {
    "tags": [],
    "vscode": {
     "languageId": "r"
    }
   },
   "outputs": [
    {
     "data": {
      "text/html": [
       "<table class=\"dataframe\">\n",
       "<caption>A data.frame: 3 × 9</caption>\n",
       "<thead>\n",
       "\t<tr><th></th><th scope=col>Pregnancies</th><th scope=col>Glucose</th><th scope=col>BloodPressure</th><th scope=col>SkinThickness</th><th scope=col>Insulin</th><th scope=col>BMI</th><th scope=col>DiabetesPedigreeFunction</th><th scope=col>Age</th><th scope=col>Outcome</th></tr>\n",
       "\t<tr><th></th><th scope=col>&lt;int&gt;</th><th scope=col>&lt;int&gt;</th><th scope=col>&lt;int&gt;</th><th scope=col>&lt;int&gt;</th><th scope=col>&lt;int&gt;</th><th scope=col>&lt;dbl&gt;</th><th scope=col>&lt;dbl&gt;</th><th scope=col>&lt;int&gt;</th><th scope=col>&lt;fct&gt;</th></tr>\n",
       "</thead>\n",
       "<tbody>\n",
       "\t<tr><th scope=row>1</th><td>1</td><td> 89</td><td>66</td><td>23</td><td> 94</td><td>28.1</td><td>0.167</td><td>21</td><td>0</td></tr>\n",
       "\t<tr><th scope=row>2</th><td>0</td><td>137</td><td>40</td><td>35</td><td>168</td><td>43.1</td><td>2.288</td><td>33</td><td>1</td></tr>\n",
       "\t<tr><th scope=row>3</th><td>3</td><td> 78</td><td>50</td><td>32</td><td> 88</td><td>31.0</td><td>0.248</td><td>26</td><td>1</td></tr>\n",
       "</tbody>\n",
       "</table>\n"
      ],
      "text/latex": [
       "A data.frame: 3 × 9\n",
       "\\begin{tabular}{r|lllllllll}\n",
       "  & Pregnancies & Glucose & BloodPressure & SkinThickness & Insulin & BMI & DiabetesPedigreeFunction & Age & Outcome\\\\\n",
       "  & <int> & <int> & <int> & <int> & <int> & <dbl> & <dbl> & <int> & <fct>\\\\\n",
       "\\hline\n",
       "\t1 & 1 &  89 & 66 & 23 &  94 & 28.1 & 0.167 & 21 & 0\\\\\n",
       "\t2 & 0 & 137 & 40 & 35 & 168 & 43.1 & 2.288 & 33 & 1\\\\\n",
       "\t3 & 3 &  78 & 50 & 32 &  88 & 31.0 & 0.248 & 26 & 1\\\\\n",
       "\\end{tabular}\n"
      ],
      "text/markdown": [
       "\n",
       "A data.frame: 3 × 9\n",
       "\n",
       "| <!--/--> | Pregnancies &lt;int&gt; | Glucose &lt;int&gt; | BloodPressure &lt;int&gt; | SkinThickness &lt;int&gt; | Insulin &lt;int&gt; | BMI &lt;dbl&gt; | DiabetesPedigreeFunction &lt;dbl&gt; | Age &lt;int&gt; | Outcome &lt;fct&gt; |\n",
       "|---|---|---|---|---|---|---|---|---|---|\n",
       "| 1 | 1 |  89 | 66 | 23 |  94 | 28.1 | 0.167 | 21 | 0 |\n",
       "| 2 | 0 | 137 | 40 | 35 | 168 | 43.1 | 2.288 | 33 | 1 |\n",
       "| 3 | 3 |  78 | 50 | 32 |  88 | 31.0 | 0.248 | 26 | 1 |\n",
       "\n"
      ],
      "text/plain": [
       "  Pregnancies Glucose BloodPressure SkinThickness Insulin BMI \n",
       "1 1            89     66            23             94     28.1\n",
       "2 0           137     40            35            168     43.1\n",
       "3 3            78     50            32             88     31.0\n",
       "  DiabetesPedigreeFunction Age Outcome\n",
       "1 0.167                    21  0      \n",
       "2 2.288                    33  1      \n",
       "3 0.248                    26  1      "
      ]
     },
     "metadata": {},
     "output_type": "display_data"
    },
    {
     "data": {
      "text/html": [
       "392"
      ],
      "text/latex": [
       "392"
      ],
      "text/markdown": [
       "392"
      ],
      "text/plain": [
       "[1] 392"
      ]
     },
     "metadata": {},
     "output_type": "display_data"
    }
   ],
   "source": [
    "# Remove the 0 values using filter\n",
    "diabetes_clean <- diabetes %>%\n",
    "  filter(Glucose != 0,\n",
    "         BloodPressure != 0,\n",
    "         SkinThickness != 0,\n",
    "         Insulin != 0,\n",
    "         BMI != 0)\n",
    "\n",
    "head(diabetes_clean, 3)\n",
    "\n",
    "# Main developer: Jaden"
   ]
  },
  {
   "cell_type": "markdown",
   "id": "8f875eda-c796-4c72-8733-c723fd475c6f",
   "metadata": {},
   "source": [
    "_Table 2.2: First 6 rows of the cleaned Diabetes data set._"
   ]
  },
  {
   "cell_type": "code",
   "execution_count": 15,
   "id": "0528681c-c510-49ba-a3d2-9ee98ffc00ee",
   "metadata": {
    "vscode": {
     "languageId": "r"
    }
   },
   "outputs": [
    {
     "name": "stdout",
     "output_type": "stream",
     "text": [
      "The cleaned data has 392 observations."
     ]
    }
   ],
   "source": [
    "# Check number of rows remaining\n",
    "n_new <- nrow(diabetes_clean)\n",
    "cat(\"The cleaned data has\", n_new ,\"observations.\")\n",
    "\n",
    "# Main developer: Sadia"
   ]
  },
  {
   "cell_type": "code",
   "execution_count": 16,
   "id": "96114f9f-53dd-4594-969f-33fe9f8835e5",
   "metadata": {
    "tags": [],
    "vscode": {
     "languageId": "r"
    }
   },
   "outputs": [
    {
     "data": {
      "text/html": [
       "<table class=\"dataframe\">\n",
       "<caption>A tibble: 2 × 2</caption>\n",
       "<thead>\n",
       "\t<tr><th scope=col>Outcome</th><th scope=col>count</th></tr>\n",
       "\t<tr><th scope=col>&lt;fct&gt;</th><th scope=col>&lt;int&gt;</th></tr>\n",
       "</thead>\n",
       "<tbody>\n",
       "\t<tr><td>0</td><td>262</td></tr>\n",
       "\t<tr><td>1</td><td>130</td></tr>\n",
       "</tbody>\n",
       "</table>\n"
      ],
      "text/latex": [
       "A tibble: 2 × 2\n",
       "\\begin{tabular}{ll}\n",
       " Outcome & count\\\\\n",
       " <fct> & <int>\\\\\n",
       "\\hline\n",
       "\t 0 & 262\\\\\n",
       "\t 1 & 130\\\\\n",
       "\\end{tabular}\n"
      ],
      "text/markdown": [
       "\n",
       "A tibble: 2 × 2\n",
       "\n",
       "| Outcome &lt;fct&gt; | count &lt;int&gt; |\n",
       "|---|---|\n",
       "| 0 | 262 |\n",
       "| 1 | 130 |\n",
       "\n"
      ],
      "text/plain": [
       "  Outcome count\n",
       "1 0       262  \n",
       "2 1       130  "
      ]
     },
     "metadata": {},
     "output_type": "display_data"
    }
   ],
   "source": [
    "# Find the number of observations in each Outcome category\n",
    "count_in_outcome <- diabetes_clean %>%\n",
    "    group_by(Outcome) %>%\n",
    "    summarise(count = n())\n",
    "\n",
    "count_in_outcome\n",
    "\n",
    "# Main developer: Sadia"
   ]
  },
  {
   "cell_type": "markdown",
   "id": "b73b5107-c1ee-432e-a60c-d2e1e90deb39",
   "metadata": {},
   "source": [
    "_Table 2.3: We have 262 female patients that are non-diabetic and 130 patients that are diabetic. This could be problematic as we do not have a balanced dataset._"
   ]
  },
  {
   "cell_type": "markdown",
   "id": "cac388fe-18c5-4996-abe6-891a3a68a2d7",
   "metadata": {},
   "source": [
    "#### Data Visualization"
   ]
  },
  {
   "cell_type": "code",
   "execution_count": 30,
   "id": "3901aaff-be59-4905-9eb7-c04dcf4eda6b",
   "metadata": {
    "tags": [],
    "vscode": {
     "languageId": "r"
    }
   },
   "outputs": [
    {
     "name": "stderr",
     "output_type": "stream",
     "text": [
      "\u001b[1m\u001b[22m`stat_bin()` using `bins = 30`. Pick better value with `binwidth`.\n",
      "\u001b[1m\u001b[22m`stat_bin()` using `bins = 30`. Pick better value with `binwidth`.\n",
      "\u001b[1m\u001b[22m`stat_bin()` using `bins = 30`. Pick better value with `binwidth`.\n",
      "\u001b[1m\u001b[22m`stat_bin()` using `bins = 30`. Pick better value with `binwidth`.\n",
      "\u001b[1m\u001b[22m`stat_bin()` using `bins = 30`. Pick better value with `binwidth`.\n",
      "\u001b[1m\u001b[22m`stat_bin()` using `bins = 30`. Pick better value with `binwidth`.\n",
      "\u001b[1m\u001b[22m`stat_bin()` using `bins = 30`. Pick better value with `binwidth`.\n",
      "\u001b[1m\u001b[22m`stat_bin()` using `bins = 30`. Pick better value with `binwidth`.\n"
     ]
    },
    {
     "data": {
      "image/png": "[encoded data removed]",
      "text/plain": [
       "plot without title"
      ]
     },
     "metadata": {
      "image/png": {
       "height": 900,
       "width": 1200
      }
     },
     "output_type": "display_data"
    }
   ],
   "source": [
    "# Control the plot dimensions\n",
    "options(repr.plot.width = 20, repr.plot.height = 15) \n",
    "\n",
    "# Create a GGPairs Plot\n",
    "diabetes_pair_plots <- \n",
    "    diabetes_clean %>%\n",
    "    ggpairs(progress = FALSE) +\n",
    "    ggtitle(\"Pairwise Plots of All Variables\") +\n",
    "    theme(\n",
    "        plot.title = element_text(face = \"bold\", hjust = 0.5, size = 18),\n",
    "        text = element_text(size = 10),\n",
    "        axis.title = element_text(face = \"bold\")\n",
    "    ) \n",
    "\n",
    "diabetes_pair_plots\n",
    "\n",
    "# Main developer: Jaden\n",
    "# Contributor: Sadia"
   ]
  },
  {
   "cell_type": "markdown",
   "id": "1c7efee0-3ea3-46e0-b293-a9317b71f636",
   "metadata": {},
   "source": [
    "_Figure 2.1: GGPairs Plot_"
   ]
  },
  {
   "cell_type": "markdown",
   "id": "770c1e5b-dc23-4f79-a1bd-702cbc843092",
   "metadata": {},
   "source": [
    "A GGPairs Plot is useful here as the variables (excluding the response) are all numerical. This can make it easier to explore the data for our analysis. The highest correlation is 0.680 between `Age` and `Pregnancies`, closely followed by 0.664 between `BMI` and `SkinThickness`.\n",
    "\n",
    "By observing the `Outcome` column , we see that the median for every explanatory variable in a patient *with* diabetes is higher. For `Glucose`, `BloodPressure`, `SkinThickness`, `Insulin`, `BMI`, and `Age`, we see a noticable increase in interquartile range for patients *with* diabetes compared to those without diabetes. Specifically, the interquartile range for `Glucose`, `Insulin`, `BMI`, and `Age` of patients with diabetes is higher than their corresponding median value of patients without diabetes. This plot suggests that `Glucose`, `Insulin`, `BMI`, and `Age` in our most accurate models could be more plausible, whereas variables with higher correlation may not.\n",
    "\n",
    "<br>"
   ]
  },
  {
   "cell_type": "markdown",
   "id": "a251bed5-b7b3-4a90-b398-c4e883091397",
   "metadata": {},
   "source": [
    "## 2.2 Methods: Plan"
   ]
  },
  {
   "cell_type": "markdown",
   "id": "55eaa5ff-1e31-44a0-a7e9-96045164bb98",
   "metadata": {},
   "source": [
    "First, we'll split the data into training and testing sets so that we can evaluate our final model in the end as our project's aim is both inference and prediction. "
   ]
  },
  {
   "cell_type": "code",
   "execution_count": 18,
   "id": "654b8a66-fe86-4c84-b446-fb2fe8a0728b",
   "metadata": {
    "tags": [],
    "vscode": {
     "languageId": "r"
    }
   },
   "outputs": [],
   "source": [
    "set.seed(123)\n",
    "\n",
    "# Split data into training and testing sets with a 70/30 split\n",
    "split <- initial_split(diabetes_clean, prop = 0.7)\n",
    "diabetes_train <- training(split)\n",
    "diabetes_test <- testing(split)\n",
    "\n",
    "# Main developer: Eric "
   ]
  },
  {
   "cell_type": "markdown",
   "id": "982052eb-9eff-4860-8571-579ac4c3bea2",
   "metadata": {},
   "source": [
    "### Model Selection"
   ]
  },
  {
   "cell_type": "markdown",
   "id": "3998b033-b352-40f7-823a-3ec9e2c2ad7f",
   "metadata": {},
   "source": [
    "We plan to use the `StepAIC` function from the `MASS` package in order to find the best parameters for models of different sizes using forward selection. This function uses AIC (Akaike Information Criterion) to select the best models. In particular, the best model selected would have smaller AIC values. Thus, this function stops stepping once the AIC starts to increase instead of decrease when the model grows larger in size, so we won't be looking at all possible model sizes. To use `StepAIC`, we need to create two models, one with all and one with no parameters, in order to set the bounds of the models we want to step through. "
   ]
  },
  {
   "cell_type": "code",
   "execution_count": 31,
   "id": "dc1786ad-5982-457e-9c3f-07b95fdab542",
   "metadata": {
    "tags": [],
    "vscode": {
     "languageId": "r"
    }
   },
   "outputs": [
    {
     "name": "stdout",
     "output_type": "stream",
     "text": [
      "Start:  AIC=355.67\n",
      "Outcome ~ 1\n",
      "\n",
      "                           Df Deviance    AIC\n",
      "+ Glucose                   1   262.54 266.54\n",
      "+ Insulin                   1   322.61 326.61\n",
      "+ Age                       1   323.34 327.34\n",
      "+ BMI                       1   327.43 331.43\n",
      "+ SkinThickness             1   335.00 339.00\n",
      "+ DiabetesPedigreeFunction  1   341.68 345.68\n",
      "+ BloodPressure             1   343.56 347.56\n",
      "+ Pregnancies               1   343.74 347.74\n",
      "<none>                          353.67 355.67\n",
      "\n",
      "Step:  AIC=266.54\n",
      "Outcome ~ Glucose\n",
      "\n",
      "                           Df Deviance    AIC\n",
      "+ BMI                       1   250.22 256.22\n",
      "+ DiabetesPedigreeFunction  1   254.55 260.55\n",
      "+ SkinThickness             1   254.83 260.83\n",
      "+ Age                       1   256.55 262.55\n",
      "<none>                          262.54 266.54\n",
      "+ BloodPressure             1   260.90 266.90\n",
      "+ Pregnancies               1   261.16 267.16\n",
      "+ Insulin                   1   262.32 268.32\n",
      "\n",
      "Step:  AIC=256.22\n",
      "Outcome ~ Glucose + BMI\n",
      "\n",
      "                           Df Deviance    AIC\n",
      "+ Age                       1   243.45 251.45\n",
      "+ DiabetesPedigreeFunction  1   244.56 252.56\n",
      "+ Pregnancies               1   247.93 255.93\n",
      "<none>                          250.22 256.22\n",
      "+ SkinThickness             1   249.61 257.61\n",
      "+ Insulin                   1   250.18 258.18\n",
      "+ BloodPressure             1   250.22 258.22\n",
      "\n",
      "Step:  AIC=251.45\n",
      "Outcome ~ Glucose + BMI + Age\n",
      "\n",
      "                           Df Deviance    AIC\n",
      "+ DiabetesPedigreeFunction  1   238.22 248.22\n",
      "<none>                          243.45 251.45\n",
      "+ BloodPressure             1   242.88 252.88\n",
      "+ Pregnancies               1   243.34 253.34\n",
      "+ SkinThickness             1   243.35 253.35\n",
      "+ Insulin                   1   243.40 253.40\n",
      "\n",
      "Step:  AIC=248.22\n",
      "Outcome ~ Glucose + BMI + Age + DiabetesPedigreeFunction\n",
      "\n",
      "                Df Deviance    AIC\n",
      "<none>               238.22 248.22\n",
      "+ BloodPressure  1   237.98 249.98\n",
      "+ Insulin        1   238.11 250.11\n",
      "+ Pregnancies    1   238.16 250.16\n",
      "+ SkinThickness  1   238.17 250.17\n"
     ]
    },
    {
     "data": {
      "text/plain": [
       "\n",
       "Call:  glm(formula = Outcome ~ Glucose + BMI + Age + DiabetesPedigreeFunction, \n",
       "    family = \"binomial\", data = diabetes_train)\n",
       "\n",
       "Coefficients:\n",
       "             (Intercept)                   Glucose                       BMI  \n",
       "               -10.60175                   0.04228                   0.07893  \n",
       "                     Age  DiabetesPedigreeFunction  \n",
       "                 0.04020                   1.14273  \n",
       "\n",
       "Degrees of Freedom: 273 Total (i.e. Null);  269 Residual\n",
       "Null Deviance:\t    353.7 \n",
       "Residual Deviance: 238.2 \tAIC: 248.2"
      ]
     },
     "metadata": {},
     "output_type": "display_data"
    }
   ],
   "source": [
    "# Create full model with all 8 predictors\n",
    "full_diabetes_logistic = glm(Outcome ~ ., family = \"binomial\", data = diabetes_train)\n",
    "\n",
    "# Create null model\n",
    "null_diabetes_logistic = glm(Outcome ~ 1, family = \"binomial\", data = diabetes_train)\n",
    "\n",
    "# Forward selection using stepAIC() from MASS package\n",
    "step_model <- stepAIC(null_diabetes_logistic, scope = list(\n",
    "    lower = null_diabetes_logistic, upper = full_diabetes_logistic), direction = \"forward\")\n",
    "\n",
    "step_model\n",
    "\n",
    "# Main developer: Jaden"
   ]
  },
  {
   "cell_type": "markdown",
   "id": "cf075213-d51c-4bf1-a882-52b28e1ff380",
   "metadata": {},
   "source": [
    "_Figure 2.2: Output of Forward Selection using stepAIC()_"
   ]
  },
  {
   "cell_type": "markdown",
   "id": "9c6b17b7-219c-49c6-863b-5ed69b9fa1c4",
   "metadata": {},
   "source": [
    "Now that we know which parameters are best in each model of different sizes (up to size 5), we can perform cross validation on each one to measure their accuracies. Cross validation is less prone to variance from the training/testing data split."
   ]
  },
  {
   "cell_type": "code",
   "execution_count": 20,
   "id": "a80a65bc-7aa0-48fd-9419-027e82cb39c4",
   "metadata": {
    "tags": [],
    "vscode": {
     "languageId": "r"
    }
   },
   "outputs": [],
   "source": [
    "# Set number of folds for cross validation\n",
    "cv_control <- trainControl(method = \"cv\", number = 5)\n",
    "\n",
    "# Main developer: Eric"
   ]
  },
  {
   "cell_type": "code",
   "execution_count": 36,
   "id": "34ab0610-ad0d-4d6b-9620-f756fdb11e9e",
   "metadata": {
    "tags": [],
    "vscode": {
     "languageId": "r"
    }
   },
   "outputs": [
    {
     "data": {
      "text/html": [
       "0.755690235690236"
      ],
      "text/latex": [
       "0.755690235690236"
      ],
      "text/markdown": [
       "0.755690235690236"
      ],
      "text/plain": [
       "[1] 0.7556902"
      ]
     },
     "metadata": {},
     "output_type": "display_data"
    }
   ],
   "source": [
    "set.seed(123)\n",
    "\n",
    "# Model of size 1 with lowest AIC from forward selection\n",
    "model_1_cv <- train(\n",
    "    as.formula(Outcome ~ Glucose),\n",
    "    data = diabetes_train,\n",
    "    method = \"glm\",\n",
    "    family = \"binomial\",\n",
    "    trControl = cv_control\n",
    ")\n",
    "\n",
    "\n",
    "# Compute model's accuracy\n",
    "model_1_cv_accuracy <- model_1_cv$results %>%\n",
    "    pull(Accuracy)\n",
    "model_1_cv_accuracy\n",
    "\n",
    "# Main developer: Eric (Cross Validation)\n",
    "# Contributor: Jaden (Accuracy)"
   ]
  },
  {
   "cell_type": "code",
   "execution_count": 22,
   "id": "c2b336c3-33e0-4932-a8c8-5418297586d5",
   "metadata": {
    "tags": [],
    "vscode": {
     "languageId": "r"
    }
   },
   "outputs": [
    {
     "data": {
      "text/html": [
       "0.773939393939394"
      ],
      "text/latex": [
       "0.773939393939394"
      ],
      "text/markdown": [
       "0.773939393939394"
      ],
      "text/plain": [
       "[1] 0.7739394"
      ]
     },
     "metadata": {},
     "output_type": "display_data"
    }
   ],
   "source": [
    "set.seed(123)\n",
    "\n",
    "# Model of size 2 with lowest AIC from forward selection\n",
    "model_2_cv <- train(\n",
    "    as.formula(Outcome ~ Glucose + Age),\n",
    "    data = diabetes_train,\n",
    "    method = \"glm\",\n",
    "    family = \"binomial\",\n",
    "    trControl = cv_control\n",
    ")\n",
    "\n",
    "\n",
    "# Compute model's accuracy\n",
    "model_2_cv_accuracy <- model_2_cv$results %>%\n",
    "    pull(Accuracy)\n",
    "model_2_cv_accuracy\n",
    "\n",
    "# Main developer: Eric (Cross Validation)\n",
    "# Contributor: Jaden (Accuracy)"
   ]
  },
  {
   "cell_type": "code",
   "execution_count": 23,
   "id": "1bcba2ad-3fdb-44ac-9622-e85dc06ef336",
   "metadata": {
    "tags": [],
    "vscode": {
     "languageId": "r"
    }
   },
   "outputs": [
    {
     "data": {
      "text/html": [
       "0.795757575757576"
      ],
      "text/latex": [
       "0.795757575757576"
      ],
      "text/markdown": [
       "0.795757575757576"
      ],
      "text/plain": [
       "[1] 0.7957576"
      ]
     },
     "metadata": {},
     "output_type": "display_data"
    }
   ],
   "source": [
    "set.seed(123)\n",
    "\n",
    "# Model of size 3 with lowest AIC from forward selection\n",
    "model_3_cv <- train(\n",
    "    as.formula(Outcome ~ Glucose + Age + BMI),\n",
    "    data = diabetes_train,\n",
    "    method = \"glm\",\n",
    "    family = \"binomial\",\n",
    "    trControl = cv_control\n",
    ")\n",
    "\n",
    "# Compute model's accuracy\n",
    "model_3_cv_accuracy <- model_3_cv$results %>%\n",
    "    pull(Accuracy)\n",
    "model_3_cv_accuracy\n",
    "\n",
    "# Main developer: Eric (Cross Validation)\n",
    "# Contributor: Jaden (Accuracy)"
   ]
  },
  {
   "cell_type": "code",
   "execution_count": 24,
   "id": "1b2bb3e7-52ce-4141-95ac-8f94694120c9",
   "metadata": {
    "tags": [],
    "vscode": {
     "languageId": "r"
    }
   },
   "outputs": [
    {
     "data": {
      "text/html": [
       "0.792121212121212"
      ],
      "text/latex": [
       "0.792121212121212"
      ],
      "text/markdown": [
       "0.792121212121212"
      ],
      "text/plain": [
       "[1] 0.7921212"
      ]
     },
     "metadata": {},
     "output_type": "display_data"
    }
   ],
   "source": [
    "set.seed(123)\n",
    "\n",
    "# Model of size 4 with lowest AIC from forward selection\n",
    "model_4_cv <- train(\n",
    "    as.formula(Outcome ~ Glucose + Age + BMI + DiabetesPedigreeFunction),\n",
    "    data = diabetes_train,\n",
    "    method = \"glm\",\n",
    "    family = \"binomial\",\n",
    "    trControl = cv_control\n",
    ")\n",
    "\n",
    "# Compute model's accuracy\n",
    "model_4_cv_accuracy <- model_4_cv$results %>%\n",
    "    pull(Accuracy)\n",
    "model_4_cv_accuracy\n",
    "\n",
    "# Main developer: Eric (Cross Validation)\n",
    "# Contributor: Jaden (Accuracy)"
   ]
  },
  {
   "cell_type": "code",
   "execution_count": 25,
   "id": "63973382-8502-438c-80b5-433701ba19c8",
   "metadata": {
    "tags": [],
    "vscode": {
     "languageId": "r"
    }
   },
   "outputs": [
    {
     "data": {
      "text/html": [
       "0.792121212121212"
      ],
      "text/latex": [
       "0.792121212121212"
      ],
      "text/markdown": [
       "0.792121212121212"
      ],
      "text/plain": [
       "[1] 0.7921212"
      ]
     },
     "metadata": {},
     "output_type": "display_data"
    }
   ],
   "source": [
    "set.seed(123)\n",
    "\n",
    "# Model of size 5 with lowest AIC from forward selection\n",
    "\n",
    "model_5_cv <- train(\n",
    "    as.formula(Outcome ~ Glucose + Age + BMI + DiabetesPedigreeFunction + Pregnancies),\n",
    "    data = diabetes_train,\n",
    "    method = \"glm\",\n",
    "    family = \"binomial\",\n",
    "    trControl = cv_control\n",
    ")\n",
    "\n",
    "# Compute model's accuracy\n",
    "model_5_cv_accuracy <- model_5_cv$results %>%\n",
    "    pull(Accuracy)\n",
    "model_5_cv_accuracy\n",
    "\n",
    "# Main developer: Eric (Cross Validation)\n",
    "# Contributor: Jaden (Accuracy)"
   ]
  },
  {
   "cell_type": "code",
   "execution_count": 38,
   "id": "97798e9e",
   "metadata": {
    "vscode": {
     "languageId": "r"
    }
   },
   "outputs": [
    {
     "data": {
      "text/plain": [
       "Generalized Linear Model \n",
       "\n",
       "274 samples\n",
       "  1 predictor\n",
       "  2 classes: '0', '1' \n",
       "\n",
       "No pre-processing\n",
       "Resampling: Cross-Validated (5 fold) \n",
       "Summary of sample sizes: 219, 219, 219, 220, 219 \n",
       "Resampling results:\n",
       "\n",
       "  Accuracy   Kappa    \n",
       "  0.7556902  0.4316261\n"
      ]
     },
     "metadata": {},
     "output_type": "display_data"
    },
    {
     "data": {
      "text/plain": [
       "Generalized Linear Model \n",
       "\n",
       "274 samples\n",
       "  2 predictor\n",
       "  2 classes: '0', '1' \n",
       "\n",
       "No pre-processing\n",
       "Resampling: Cross-Validated (5 fold) \n",
       "Summary of sample sizes: 219, 219, 219, 220, 219 \n",
       "Resampling results:\n",
       "\n",
       "  Accuracy   Kappa  \n",
       "  0.7739394  0.47435\n"
      ]
     },
     "metadata": {},
     "output_type": "display_data"
    },
    {
     "data": {
      "text/plain": [
       "Generalized Linear Model \n",
       "\n",
       "274 samples\n",
       "  3 predictor\n",
       "  2 classes: '0', '1' \n",
       "\n",
       "No pre-processing\n",
       "Resampling: Cross-Validated (5 fold) \n",
       "Summary of sample sizes: 219, 219, 219, 220, 219 \n",
       "Resampling results:\n",
       "\n",
       "  Accuracy   Kappa   \n",
       "  0.7957576  0.530076\n"
      ]
     },
     "metadata": {},
     "output_type": "display_data"
    },
    {
     "data": {
      "text/plain": [
       "Generalized Linear Model \n",
       "\n",
       "274 samples\n",
       "  4 predictor\n",
       "  2 classes: '0', '1' \n",
       "\n",
       "No pre-processing\n",
       "Resampling: Cross-Validated (5 fold) \n",
       "Summary of sample sizes: 219, 219, 219, 220, 219 \n",
       "Resampling results:\n",
       "\n",
       "  Accuracy   Kappa    \n",
       "  0.7921212  0.5198808\n"
      ]
     },
     "metadata": {},
     "output_type": "display_data"
    },
    {
     "data": {
      "text/plain": [
       "Generalized Linear Model \n",
       "\n",
       "274 samples\n",
       "  5 predictor\n",
       "  2 classes: '0', '1' \n",
       "\n",
       "No pre-processing\n",
       "Resampling: Cross-Validated (5 fold) \n",
       "Summary of sample sizes: 219, 219, 219, 220, 219 \n",
       "Resampling results:\n",
       "\n",
       "  Accuracy   Kappa    \n",
       "  0.7921212  0.5196884\n"
      ]
     },
     "metadata": {},
     "output_type": "display_data"
    }
   ],
   "source": [
    "model_1_cv\n",
    "model_2_cv\n",
    "model_3_cv\n",
    "model_4_cv\n",
    "model_5_cv"
   ]
  },
  {
   "cell_type": "markdown",
   "id": "8d333c30-e455-48a4-9ebc-93d5a9ad5471",
   "metadata": {},
   "source": [
    "The model with 3 parameters had the highest accuracy, despite it having a higher AIC seen in the forward selection process. However, the accuracies of each model are fairly close, and because AIC is a better metric to compare models of different sizes since it takes size into consideration, we'll still use the model of size 5 for our final model."
   ]
  },
  {
   "cell_type": "markdown",
   "id": "35b1c61d-1372-49cf-ae98-2401b9202d9a",
   "metadata": {},
   "source": [
    "### Estimation + Inference"
   ]
  },
  {
   "cell_type": "code",
   "execution_count": 63,
   "id": "6e2e91fe-db6a-4718-bf53-49eb465e9382",
   "metadata": {
    "vscode": {
     "languageId": "r"
    }
   },
   "outputs": [
    {
     "data": {
      "text/plain": [
       "\n",
       "Call:\n",
       "glm(formula = Outcome ~ Glucose + Age + BMI + DiabetesPedigreeFunction + \n",
       "    Pregnancies, family = \"binomial\", data = diabetes_train)\n",
       "\n",
       "Coefficients:\n",
       "                           Estimate Std. Error z value Pr(>|z|)    \n",
       "(Intercept)              -10.645332   1.346565  -7.906 2.67e-15 ***\n",
       "Glucose                    0.042306   0.006682   6.331 2.44e-10 ***\n",
       "Age                        0.043957   0.022149   1.985  0.04719 *  \n",
       "BMI                        0.078405   0.025198   3.111  0.00186 ** \n",
       "DiabetesPedigreeFunction   1.137561   0.519905   2.188  0.02867 *  \n",
       "Pregnancies               -0.017055   0.068118  -0.250  0.80230    \n",
       "---\n",
       "Signif. codes:  0 '***' 0.001 '**' 0.01 '*' 0.05 '.' 0.1 ' ' 1\n",
       "\n",
       "(Dispersion parameter for binomial family taken to be 1)\n",
       "\n",
       "    Null deviance: 353.67  on 273  degrees of freedom\n",
       "Residual deviance: 238.16  on 268  degrees of freedom\n",
       "AIC: 250.16\n",
       "\n",
       "Number of Fisher Scoring iterations: 5\n"
      ]
     },
     "metadata": {},
     "output_type": "display_data"
    }
   ],
   "source": [
    "# Fit the selected variables on the entire training set\n",
    "final_model <- glm(Outcome ~ Glucose + Age + BMI + DiabetesPedigreeFunction + Pregnancies, \n",
    "                    family = \"binomial\", \n",
    "                    data = diabetes_train)\n",
    "\n",
    "summary(final_model)\n",
    "\n",
    "# Main developer: Sadia"
   ]
  },
  {
   "cell_type": "markdown",
   "id": "d75a44e6-9520-4764-b5e7-a5f8997ff431",
   "metadata": {},
   "source": [
    "_Figure 2.3: Summary Output of Final Model_"
   ]
  },
  {
   "cell_type": "code",
   "execution_count": 62,
   "id": "24870918-7c38-42a8-a5c5-e129956ab599",
   "metadata": {
    "vscode": {
     "languageId": "r"
    }
   },
   "outputs": [
    {
     "data": {
      "text/html": [
       "<table class=\"dataframe\">\n",
       "<caption>A tibble: 7 × 10</caption>\n",
       "<thead>\n",
       "\t<tr><th scope=col>term</th><th scope=col>estimate</th><th scope=col>std.error</th><th scope=col>statistic</th><th scope=col>p.value</th><th scope=col>conf.low</th><th scope=col>conf.high</th><th scope=col>exp.estimate</th><th scope=col>exp.conf.low</th><th scope=col>exp.conf.high</th></tr>\n",
       "\t<tr><th scope=col>&lt;chr&gt;</th><th scope=col>&lt;dbl&gt;</th><th scope=col>&lt;dbl&gt;</th><th scope=col>&lt;dbl&gt;</th><th scope=col>&lt;dbl&gt;</th><th scope=col>&lt;dbl&gt;</th><th scope=col>&lt;dbl&gt;</th><th scope=col>&lt;dbl&gt;</th><th scope=col>&lt;dbl&gt;</th><th scope=col>&lt;dbl&gt;</th></tr>\n",
       "</thead>\n",
       "<tbody>\n",
       "\t<tr><td>(Intercept)             </td><td>-10.765</td><td>1.395</td><td>-7.715</td><td>0.000</td><td>-13.681</td><td>-8.192</td><td>0.000</td><td>0.000</td><td>0.000</td></tr>\n",
       "\t<tr><td>Glucose                 </td><td>  0.043</td><td>0.007</td><td> 5.831</td><td>0.000</td><td>  0.029</td><td> 0.059</td><td>1.044</td><td>1.030</td><td>1.061</td></tr>\n",
       "\t<tr><td>Age                     </td><td>  0.044</td><td>0.022</td><td> 1.998</td><td>0.046</td><td>  0.002</td><td> 0.090</td><td>1.045</td><td>1.002</td><td>1.094</td></tr>\n",
       "\t<tr><td>BMI                     </td><td>  0.080</td><td>0.026</td><td> 3.108</td><td>0.002</td><td>  0.031</td><td> 0.133</td><td>1.084</td><td>1.032</td><td>1.142</td></tr>\n",
       "\t<tr><td>DiabetesPedigreeFunction</td><td>  1.143</td><td>0.520</td><td> 2.197</td><td>0.028</td><td>  0.158</td><td> 2.194</td><td>3.135</td><td>1.171</td><td>8.970</td></tr>\n",
       "\t<tr><td>Pregnancies             </td><td> -0.018</td><td>0.068</td><td>-0.262</td><td>0.793</td><td> -0.152</td><td> 0.116</td><td>0.982</td><td>0.859</td><td>1.123</td></tr>\n",
       "\t<tr><td>Insulin                 </td><td> -0.001</td><td>0.002</td><td>-0.347</td><td>0.729</td><td> -0.004</td><td> 0.003</td><td>0.999</td><td>0.996</td><td>1.003</td></tr>\n",
       "</tbody>\n",
       "</table>\n"
      ],
      "text/latex": [
       "A tibble: 7 × 10\n",
       "\\begin{tabular}{llllllllll}\n",
       " term & estimate & std.error & statistic & p.value & conf.low & conf.high & exp.estimate & exp.conf.low & exp.conf.high\\\\\n",
       " <chr> & <dbl> & <dbl> & <dbl> & <dbl> & <dbl> & <dbl> & <dbl> & <dbl> & <dbl>\\\\\n",
       "\\hline\n",
       "\t (Intercept)              & -10.765 & 1.395 & -7.715 & 0.000 & -13.681 & -8.192 & 0.000 & 0.000 & 0.000\\\\\n",
       "\t Glucose                  &   0.043 & 0.007 &  5.831 & 0.000 &   0.029 &  0.059 & 1.044 & 1.030 & 1.061\\\\\n",
       "\t Age                      &   0.044 & 0.022 &  1.998 & 0.046 &   0.002 &  0.090 & 1.045 & 1.002 & 1.094\\\\\n",
       "\t BMI                      &   0.080 & 0.026 &  3.108 & 0.002 &   0.031 &  0.133 & 1.084 & 1.032 & 1.142\\\\\n",
       "\t DiabetesPedigreeFunction &   1.143 & 0.520 &  2.197 & 0.028 &   0.158 &  2.194 & 3.135 & 1.171 & 8.970\\\\\n",
       "\t Pregnancies              &  -0.018 & 0.068 & -0.262 & 0.793 &  -0.152 &  0.116 & 0.982 & 0.859 & 1.123\\\\\n",
       "\t Insulin                  &  -0.001 & 0.002 & -0.347 & 0.729 &  -0.004 &  0.003 & 0.999 & 0.996 & 1.003\\\\\n",
       "\\end{tabular}\n"
      ],
      "text/markdown": [
       "\n",
       "A tibble: 7 × 10\n",
       "\n",
       "| term &lt;chr&gt; | estimate &lt;dbl&gt; | std.error &lt;dbl&gt; | statistic &lt;dbl&gt; | p.value &lt;dbl&gt; | conf.low &lt;dbl&gt; | conf.high &lt;dbl&gt; | exp.estimate &lt;dbl&gt; | exp.conf.low &lt;dbl&gt; | exp.conf.high &lt;dbl&gt; |\n",
       "|---|---|---|---|---|---|---|---|---|---|\n",
       "| (Intercept)              | -10.765 | 1.395 | -7.715 | 0.000 | -13.681 | -8.192 | 0.000 | 0.000 | 0.000 |\n",
       "| Glucose                  |   0.043 | 0.007 |  5.831 | 0.000 |   0.029 |  0.059 | 1.044 | 1.030 | 1.061 |\n",
       "| Age                      |   0.044 | 0.022 |  1.998 | 0.046 |   0.002 |  0.090 | 1.045 | 1.002 | 1.094 |\n",
       "| BMI                      |   0.080 | 0.026 |  3.108 | 0.002 |   0.031 |  0.133 | 1.084 | 1.032 | 1.142 |\n",
       "| DiabetesPedigreeFunction |   1.143 | 0.520 |  2.197 | 0.028 |   0.158 |  2.194 | 3.135 | 1.171 | 8.970 |\n",
       "| Pregnancies              |  -0.018 | 0.068 | -0.262 | 0.793 |  -0.152 |  0.116 | 0.982 | 0.859 | 1.123 |\n",
       "| Insulin                  |  -0.001 | 0.002 | -0.347 | 0.729 |  -0.004 |  0.003 | 0.999 | 0.996 | 1.003 |\n",
       "\n"
      ],
      "text/plain": [
       "  term                     estimate std.error statistic p.value conf.low\n",
       "1 (Intercept)              -10.765  1.395     -7.715    0.000   -13.681 \n",
       "2 Glucose                    0.043  0.007      5.831    0.000     0.029 \n",
       "3 Age                        0.044  0.022      1.998    0.046     0.002 \n",
       "4 BMI                        0.080  0.026      3.108    0.002     0.031 \n",
       "5 DiabetesPedigreeFunction   1.143  0.520      2.197    0.028     0.158 \n",
       "6 Pregnancies               -0.018  0.068     -0.262    0.793    -0.152 \n",
       "7 Insulin                   -0.001  0.002     -0.347    0.729    -0.004 \n",
       "  conf.high exp.estimate exp.conf.low exp.conf.high\n",
       "1 -8.192    0.000        0.000        0.000        \n",
       "2  0.059    1.044        1.030        1.061        \n",
       "3  0.090    1.045        1.002        1.094        \n",
       "4  0.133    1.084        1.032        1.142        \n",
       "5  2.194    3.135        1.171        8.970        \n",
       "6  0.116    0.982        0.859        1.123        \n",
       "7  0.003    0.999        0.996        1.003        "
      ]
     },
     "metadata": {},
     "output_type": "display_data"
    }
   ],
   "source": [
    "# Use tidy to get results\n",
    "final_model_results <- final_model %>%\n",
    "    tidy(conf.int = TRUE) %>%\n",
    "    mutate(exp.estimate = exp(estimate)) %>%\n",
    "    mutate(exp.conf.low = exp(conf.low)) %>%\n",
    "    mutate(exp.conf.high = exp(conf.high)) %>%\n",
    "    mutate_if(is.numeric, round, 3)\n",
    "    \n",
    "\n",
    "final_model_results\n",
    "# Main developer: Sadia (tidy tibble)\n",
    "# Contributor: Danial (Readability)"
   ]
  },
  {
   "cell_type": "markdown",
   "id": "7b05fb97-89c0-42b7-914b-8163f1244891",
   "metadata": {},
   "source": [
    "_Table 2.4: Logistic Regression Results_"
   ]
  },
  {
   "cell_type": "markdown",
   "id": "c5f9867c-2eac-4966-abb0-585f849a589f",
   "metadata": {},
   "source": [
    "* At a 5% significance level, we see that 4 of the 5 variables: Glucose + Age + BMI and DiabetesPedigreeFunction are statisticaly associated with the probability of a female patient having diabetes.\n",
    "* However, at a 5% significance level, there is not enough evidence to reject the null hypothesis that the number of pregnancies is not associated with the log odds of a female patient having diabetes."
   ]
  },
  {
   "cell_type": "markdown",
   "id": "2587d75e-6db8-4c0f-92da-71b144b370e9",
   "metadata": {},
   "source": [
    "### Prediction"
   ]
  },
  {
   "cell_type": "code",
   "execution_count": 42,
   "id": "a2fedfc4-a821-447e-b283-7fc17a953ddc",
   "metadata": {
    "tags": [],
    "vscode": {
     "languageId": "r"
    }
   },
   "outputs": [
    {
     "data": {
      "text/html": [
       "0.813559322033898"
      ],
      "text/latex": [
       "0.813559322033898"
      ],
      "text/markdown": [
       "0.813559322033898"
      ],
      "text/plain": [
       "[1] 0.8135593"
      ]
     },
     "metadata": {},
     "output_type": "display_data"
    }
   ],
   "source": [
    "set.seed(123)\n",
    "\n",
    "# Use model_size_3 to predict Outcome results on testing set\n",
    "predicted_outcome_test <- if_else(predict(final_model, newdata = diabetes_test, type = \"response\") > 0.5, \"1\", \"0\")\n",
    "\n",
    "# Obtain testing set outcomes\n",
    "actual_outcome_test <- diabetes_test$Outcome\n",
    "\n",
    "# Compute accuracy of predicted results\n",
    "accuracy <- mean(predicted_outcome_test == actual_outcome_test)\n",
    "accuracy\n",
    "\n",
    "# Main developer: Jaden"
   ]
  },
  {
   "cell_type": "markdown",
   "id": "98b4e7ac-be70-4404-be8a-93c58413da12",
   "metadata": {},
   "source": [
    "We tested it against our testing data to get a final accuracy score of 81.4%."
   ]
  },
  {
   "cell_type": "markdown",
   "id": "6bea8da0-10a3-492b-b9c1-842add90edf2",
   "metadata": {},
   "source": [
    "As mentioned above, we have a class imbalance in our cleaned data set. There are 262 female patients that are non-diabetic and 130 patients that are diabetic. Therefore, we will consider other classification metrics given with the confusionMatrix() function."
   ]
  },
  {
   "cell_type": "code",
   "execution_count": 29,
   "id": "958e4664-bf4a-4ae9-a0bf-195974fcf0fe",
   "metadata": {
    "vscode": {
     "languageId": "r"
    }
   },
   "outputs": [
    {
     "data": {
      "text/plain": [
       "Confusion Matrix and Statistics\n",
       "\n",
       "          Reference\n",
       "Prediction  0  1\n",
       "         0 75 14\n",
       "         1  8 21\n",
       "                                          \n",
       "               Accuracy : 0.8136          \n",
       "                 95% CI : (0.7314, 0.8793)\n",
       "    No Information Rate : 0.7034          \n",
       "    P-Value [Acc > NIR] : 0.004491        \n",
       "                                          \n",
       "                  Kappa : 0.5299          \n",
       "                                          \n",
       " Mcnemar's Test P-Value : 0.286422        \n",
       "                                          \n",
       "            Sensitivity : 0.6000          \n",
       "            Specificity : 0.9036          \n",
       "         Pos Pred Value : 0.7241          \n",
       "         Neg Pred Value : 0.8427          \n",
       "             Prevalence : 0.2966          \n",
       "         Detection Rate : 0.1780          \n",
       "   Detection Prevalence : 0.2458          \n",
       "      Balanced Accuracy : 0.7518          \n",
       "                                          \n",
       "       'Positive' Class : 1               \n",
       "                                          "
      ]
     },
     "metadata": {},
     "output_type": "display_data"
    }
   ],
   "source": [
    "# Create a confusion matrix\n",
    "confusion_matrix <- confusionMatrix(as.factor(predicted_outcome_test), as.factor(actual_outcome_test),\n",
    "                                    positive = \"1\")\n",
    "confusion_matrix\n",
    "\n",
    "# Main developer: Sadia"
   ]
  },
  {
   "cell_type": "markdown",
   "id": "9058dc11-5bcf-4c1b-92d0-7f4d70e6b62f",
   "metadata": {},
   "source": [
    "_Figure 2.4: Test Set Results_"
   ]
  },
  {
   "cell_type": "markdown",
   "id": "0cbfdd95-3c18-43cd-8e97-c92e8c777559",
   "metadata": {},
   "source": [
    "- The number of True Positives is 21\n",
    "- The number of True Negatives is 75\n",
    "- The number of False Positives is 8\n",
    "- The number of False Negatives is 14"
   ]
  },
  {
   "cell_type": "markdown",
   "id": "cad56ef3-cbfe-4748-a67e-294a36136096",
   "metadata": {},
   "source": [
    "## **3. Discussion**"
   ]
  },
  {
   "cell_type": "markdown",
   "id": "f3d09e4f-a239-4d89-b487-efddc4d394d9",
   "metadata": {},
   "source": [
    "Re-Stating Questions:\n",
    "\n",
    "(1) Which variables are associated with the probability of a female patient being diabetic or not?\n",
    "\n",
    "(2) How accurately can we predict whether a female patient has diabetes or not based on the significant variables found?\n",
    "\n",
    "To summarize, we began our analysis through some EDA, and data cleaning. Then we use an automated procedure, forward selection, with the function stepAIC() to find the best models of sizes 1 to 5. Then we ran cross-validation with each best selected model to find the best performing one. Finally, we re-fitted the model usuing the entire training set.\n"
   ]
  },
  {
   "cell_type": "markdown",
   "id": "6ef09621-7b12-4012-93ee-5436f733d628",
   "metadata": {},
   "source": [
    "**Inference**\n",
    "\n",
    "From our inferential analysis, we identified that Glucose, Age, BMI, and DiabetesPedigreeFunction are statistically associated with the probability of a female patient being diabetic.\n",
    "* For every **one unit increase in glucose levels**, the odds of a female patient having diabetes is expected to increase by about 4.3%%, while holding Age and BMI fixed.\n",
    "* For every **year increase in age**, the odds of a female patient having diabetes is expected to increase by about 4.5%, while holding Glucose and BMI fixed.\n",
    "* For every **one unit increase in BMI**, the odds of a female patient having diabetes is expected to increase by about 8.2%.\n",
    "* ??? For every **one unit increase in DiabetesPedigreeFunction**, the odds of a female patient having diabetes is expected to increase by about 212%???\n",
    "  - ??? The high impact of DiabetesPedigreeFunction (\"function that scores the probability of diabetes based on family history\") is expected as diabetes is genetic? \n"
   ]
  },
  {
   "cell_type": "markdown",
   "id": "c7ebab88-e909-47e4-8d12-718561d4362f",
   "metadata": {},
   "source": [
    "**Prediction**\n",
    "\n",
    "After running our final model on our testing set, we got an accuracy score of 81.4%. This metric is not the best in our case due to the class imbalance. So we use additional metrics to discuss our model found with the confusionMatrix() function.\n",
    "\n",
    "Using the model on the testing set gives a sensitivity score of 0.6000 and a specificity score of 0.9036. Specifically, the model correctly identifies 60.00% of the female patients as diabetic and correctly identifies 90.36% of the female patients being non-diabetic. Thus, our final model selected with 5 predictors is better at predicting when a female patient is not diabetic given that the patient is in fact not diabetic. \n",
    "\n",
    "**Implications/Impact**\n",
    "\n",
    "Given the lower sensitivity score, this model should not be used in a real setting. Otherwise, we will not be able to identify patients that are diabetic which is critical to ensure that diabetic patients can be treated on time."
   ]
  },
  {
   "cell_type": "markdown",
   "id": "28e697b2-4359-4a03-b6d9-ca9ce21a6625",
   "metadata": {},
   "source": [
    "**Model Improvements**\n",
    "\n",
    "A prime target for model improvements is addressing the class imbalance in the training set. This can be acheived by duplicating data points with outcome = 1 until the amount of people with and without diabetes is roughly equal. Another way is by using interpolation techniques like SMOTE to oversample.\n",
    "\n",
    "We can also try transforming the data by removing outliers and/or applying a log transformation on the predictors before fitting a model to the data.\n",
    "\n",
    "Additionally, experimenting with alternative models, such as the KNN algorithm or decision trees, could provide better predictive performance and robustness.\n",
    "\n",
    "**Future Questions/Research**\n",
    "\n",
    "Future research could be more effective if another study was conducted by the NIDDK)or a related organization which which captured a larger sample size. This would help defeat the negative effects of outliers  This would also help in understanding the disease's impact across different demographics and environments, leading to better prevention and treatment strategies.\n",
    "\n",
    "Another question that may be posed is asking whether this model would have equal or similar predictive power on females of different demographic groups, rather than just Pima Indians. This would help us evaluate if diabetes manifests similarly in people of different ethnicities and races.\n"
   ]
  },
  {
   "cell_type": "markdown",
   "id": "6d926dd4-408a-4090-a7e8-f63c6441fb1d",
   "metadata": {},
   "source": [
    "<br>\n",
    "\n",
    "## **3. References**\n",
    "\n",
    "Dataset: https://www.kaggle.com/datasets/whenamancodes/predict-diabities?resource=download\n",
    "[1] https://www.who.int/health-topics/diabetes\n",
    "[2] https://repository.arizona.edu/bitstream/handle/10150/608737/Stowe_Senior_Capstone_Spring_16.pdf\n",
    "[3] https://www.ncbi.nlm.nih.gov/pmc/articles/PMC2245318/\n",
    " \n",
    "\n",
    "<br>"
   ]
  }
 ],
 "metadata": {
  "kernelspec": {
   "display_name": "R",
   "language": "R",
   "name": "ir"
  },
  "language_info": {
   "codemirror_mode": "r",
   "file_extension": ".r",
   "mimetype": "text/x-r-source",
   "name": "R",
   "pygments_lexer": "r",
   "version": "4.4.1"
  }
 },
 "nbformat": 4,
 "nbformat_minor": 5
}
