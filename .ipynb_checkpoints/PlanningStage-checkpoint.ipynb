{
 "cells": [
  {
   "cell_type": "markdown",
   "id": "bd902195-ff66-42fe-abb1-435b46ad1cda",
   "metadata": {},
   "source": [
    "# Planning Stage"
   ]
  },
  {
   "cell_type": "markdown",
   "id": "62b225e7-1120-44df-ab69-b476c91c132b",
   "metadata": {},
   "source": [
    "**You must submit two files in Canvas:**\n",
    "\n",
    "- The source Jupyter Notebook (.ipynb file)\n",
    "- the rendered final document (.html file)"
   ]
  },
  {
   "cell_type": "markdown",
   "id": "97a63991-029f-4f5a-bdff-1e8f7ec7af16",
   "metadata": {},
   "source": [
    "<br>\n",
    "\n",
    "**(1) Data Description:**\n",
    "\n",
    "Provide a full description of the dataset chosen. Note that the selected dataset will probably contain more variables than you need. In fact, exploring how the different variables in the dataset affect your model may be a crucial part of the project. Regardless of which variables you plan to use, provide a full descriptive summary of the dataset, including information such as the number of observations, number of variables, name and type of variables, etc. You may want to use a table or bullet points to describe the variables in the dataset.\n",
    "\n",
    "Include a brief description of the dataset indicating how the data has been collected or where it comes from.\n",
    "\n",
    "<br>"
   ]
  },
  {
   "cell_type": "markdown",
   "id": "beacdd67-c428-4bde-a832-64c6f9285de6",
   "metadata": {},
   "source": [
    "Dataset: Diabetes, yes/no"
   ]
  },
  {
   "cell_type": "markdown",
   "id": "3c8e9ae3-8efd-4001-8eb7-d471397ec729",
   "metadata": {},
   "source": [
    "<br>\n",
    "\n",
    "**(2) Question:**\n",
    "\n",
    "Clearly state the question you will try to answer using the selected dataset. Your question should involve one random variable of interest (the response) and one or more explanatory variables. Describe clearly how the data will help you address the question of interest. Explain whether your question is focused on prediction, inference, or both.\n",
    "\n",
    "It is fine to have the same question as other group members. However, you don’t need to agree on a unique common question for the group project. In fact, usually many questions can be answered with the same dataset. Regardless of how many questions are proposed within each group, each team member must state and justify at least one question of interest.\n",
    "\n",
    "<br>"
   ]
  },
  {
   "cell_type": "code",
   "execution_count": null,
   "id": "88b47cae-8f57-4128-8d4d-32ca9b95c9aa",
   "metadata": {},
   "outputs": [],
   "source": []
  },
  {
   "cell_type": "markdown",
   "id": "1c470685-a8dc-4ea5-a41c-ca4d5d7733e2",
   "metadata": {},
   "source": [
    "**(3) Exploratory Data Analysis and Visualization**\n",
    "\n",
    "In this assignment, you will:\n",
    "\n",
    "Demonstrate that the dataset can be loaded into R.\n",
    "Clean and wrangle your data into a tidy format.\n",
    "Propose a visualization that you consider relevant to address your question or to explore the data.\n",
    "propose a high-quality plot or set of plots of the same kind (e.g., histograms of different variables)\n",
    "explain why you consider this plot relevant to address your question or to explore the data\n",
    "Note: this visualization does not have to illustrate the results of a methodology. Instead, you are exploring which variables are relevant, potential problems that you anticipate encountering, groups in the observations, etc.\n"
   ]
  },
  {
   "cell_type": "code",
   "execution_count": null,
   "id": "0a5396bf-1ace-442b-9f32-ef1eb2aae998",
   "metadata": {},
   "outputs": [],
   "source": []
  },
  {
   "cell_type": "markdown",
   "id": "cad56ef3-cbfe-4748-a67e-294a36136096",
   "metadata": {},
   "source": [
    "**(4) Methods and Plan**\n",
    "Propose one method to address your question of interest using the selected dataset and explain why it was chosen. You do not need to run the model and present results at this stage. Just a high-level thinking of what model you are planning to use. \n",
    "\n",
    "In your explanation, respond to the following questions:\n",
    "\n",
    "Why is this method appropriate?\n",
    "Which assumptions are required, if any, to apply the method selected?\n",
    "What are the potential limitations or weaknesses of the method selected?"
   ]
  },
  {
   "cell_type": "code",
   "execution_count": null,
   "id": "690ee9e2-102d-49f4-93c3-97de0e923519",
   "metadata": {},
   "outputs": [],
   "source": []
  }
 ],
 "metadata": {
  "kernelspec": {
   "display_name": "R",
   "language": "R",
   "name": "ir"
  },
  "language_info": {
   "codemirror_mode": "r",
   "file_extension": ".r",
   "mimetype": "text/x-r-source",
   "name": "R",
   "pygments_lexer": "r",
   "version": "4.3.1"
  }
 },
 "nbformat": 4,
 "nbformat_minor": 5
}
